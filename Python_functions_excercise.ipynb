{
 "cells": [
  {
   "cell_type": "code",
   "execution_count": 1,
   "id": "af8de5a2",
   "metadata": {},
   "outputs": [
    {
     "name": "stdout",
     "output_type": "stream",
     "text": [
      "a=1,b=3,c=['sujith,3]', 5],d=(1, 3)\n"
     ]
    }
   ],
   "source": [
    "def test():\n",
    "    return 1,3,[\"sujith,3]\",5],(1,3)\n",
    "\n",
    "a,b,c,d=test()\n",
    "print(f\"a={a},b={b},c={c},d={d}\")"
   ]
  },
  {
   "cell_type": "code",
   "execution_count": 3,
   "id": "31a4d02b",
   "metadata": {},
   "outputs": [
    {
     "data": {
      "text/plain": [
       "10"
      ]
     },
     "execution_count": 3,
     "metadata": {},
     "output_type": "execute_result"
    }
   ],
   "source": [
    "def test():\n",
    "    l=[1,2,3,4,\"suji\"]\n",
    "    a=0\n",
    "    for i in l:\n",
    "        if type(i) ==int:\n",
    "         a=a+i\n",
    "    return a\n",
    "test()"
   ]
  },
  {
   "cell_type": "markdown",
   "id": "eaa40b47",
   "metadata": {},
   "source": [
    "# 1.Write a function which will try to find the length of a string without imbuilt length function"
   ]
  },
  {
   "cell_type": "code",
   "execution_count": 5,
   "id": "f2a1e09e",
   "metadata": {},
   "outputs": [
    {
     "data": {
      "text/plain": [
       "6"
      ]
     },
     "execution_count": 5,
     "metadata": {},
     "output_type": "execute_result"
    }
   ],
   "source": [
    "def str_len(str):\n",
    "    i=0\n",
    "    for s in str:\n",
    "        i=i+1\n",
    "    return i\n",
    "str_len(\"sujith\")\n",
    "    "
   ]
  },
  {
   "cell_type": "markdown",
   "id": "87fa8773",
   "metadata": {},
   "source": [
    "# 2.Write a function which will be able to print index of a list element without using index function"
   ]
  },
  {
   "cell_type": "code",
   "execution_count": 11,
   "id": "58b6cd1c",
   "metadata": {},
   "outputs": [
    {
     "data": {
      "text/plain": [
       "3"
      ]
     },
     "execution_count": 11,
     "metadata": {},
     "output_type": "execute_result"
    }
   ],
   "source": [
    "def list_index(list,item):\n",
    "    index=-1\n",
    "    for l in list:\n",
    "        index=index+1\n",
    "        if l==item:break\n",
    "    return index\n",
    "list_index([10,33,55,\"sujith\",9],\"sujith\")\n",
    "        \n",
    "    \n",
    "    "
   ]
  },
  {
   "cell_type": "markdown",
   "id": "8d689b67",
   "metadata": {},
   "source": [
    "# 3.Write a function whihc will print IP address of your system"
   ]
  },
  {
   "cell_type": "code",
   "execution_count": 12,
   "id": "a60300f0",
   "metadata": {},
   "outputs": [
    {
     "data": {
      "text/plain": [
       "'192.168.1.14'"
      ]
     },
     "execution_count": 12,
     "metadata": {},
     "output_type": "execute_result"
    }
   ],
   "source": [
    "import socket\n",
    "def print_ip():\n",
    "    hostname=socket.gethostname()\n",
    "    ip=socket.gethostbyname(hostname)\n",
    "    \n",
    "    return ip\n",
    "print_ip()\n",
    "    "
   ]
  },
  {
   "cell_type": "markdown",
   "id": "4f959ea6",
   "metadata": {},
   "source": [
    "# 4.Write a funcion which will shutdown your system"
   ]
  },
  {
   "cell_type": "code",
   "execution_count": 18,
   "id": "4efb6363",
   "metadata": {},
   "outputs": [
    {
     "name": "stdout",
     "output_type": "stream",
     "text": [
      "Do you want to shutdown (yes/no):no\n",
      "dont shut down\n"
     ]
    }
   ],
   "source": [
    "import os\n",
    "def shut_down():\n",
    "    shutdown=input('Do you want to shutdown (yes/no):')\n",
    "    if shutdown=='yes':\n",
    "        print(\"shutdown\")\n",
    "        os.system(\"shutdown /s /t 1\")\n",
    "    elif shutdown=='no':\n",
    "        print('dont shut down')\n",
    "        exit()\n",
    "#shut_down()        "
   ]
  },
  {
   "cell_type": "markdown",
   "id": "6b725891",
   "metadata": {},
   "source": [
    "# 5."
   ]
  },
  {
   "cell_type": "markdown",
   "id": "83ef184f",
   "metadata": {},
   "source": [
    "# 6."
   ]
  },
  {
   "cell_type": "markdown",
   "id": "b5df21c4",
   "metadata": {},
   "source": [
    "# 7. Write a function to mail to anyone"
   ]
  },
  {
   "cell_type": "code",
   "execution_count": 25,
   "id": "c9d12383",
   "metadata": {},
   "outputs": [
    {
     "name": "stdout",
     "output_type": "stream",
     "text": [
      "Exception#####\n"
     ]
    }
   ],
   "source": [
    "import smtplib,ssl\n",
    "def send_mail():\n",
    "    sender = 'sujithks81@gmail.com'\n",
    "    receivers = ['sujithks81@gmail.com']\n",
    "    message = \"\"\"From: From Person <from@example.com>\n",
    "    To: To Person <to@example.com>\n",
    "    Subject: SMTP email example\n",
    "\n",
    "\n",
    "    This is a test message.\n",
    "    \"\"\"\n",
    "\n",
    "try:\n",
    "    smtpObj = smtplib.SMTP('smtp.gmail.com')\n",
    "    smtpObj.sendmail(sender, receivers, message)         \n",
    "    print(\"Successfully sent email\")\n",
    "except Exception:\n",
    "    print(\"Exception#####\")\n",
    "  \n",
    "send_mail()\n"
   ]
  },
  {
   "cell_type": "code",
   "execution_count": null,
   "id": "8a4b58e1",
   "metadata": {},
   "outputs": [],
   "source": []
  }
 ],
 "metadata": {
  "kernelspec": {
   "display_name": "Python 3 (ipykernel)",
   "language": "python",
   "name": "python3"
  },
  "language_info": {
   "codemirror_mode": {
    "name": "ipython",
    "version": 3
   },
   "file_extension": ".py",
   "mimetype": "text/x-python",
   "name": "python",
   "nbconvert_exporter": "python",
   "pygments_lexer": "ipython3",
   "version": "3.9.13"
  }
 },
 "nbformat": 4,
 "nbformat_minor": 5
}
