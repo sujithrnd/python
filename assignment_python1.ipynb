{
 "cells": [
  {
   "cell_type": "markdown",
   "id": "2726e834",
   "metadata": {},
   "source": [
    "# 1"
   ]
  },
  {
   "cell_type": "code",
   "execution_count": null,
   "id": "1ff81379",
   "metadata": {},
   "outputs": [],
   "source": [
    "Values:\n",
    "\n",
    "'hello' (string)\n",
    "-87.8 (floating-point number)\n",
    "6 (integer)\n",
    "\n",
    "Expression:\n",
    "    + / - *"
   ]
  },
  {
   "cell_type": "markdown",
   "id": "b59f864e",
   "metadata": {},
   "source": [
    "# 2"
   ]
  },
  {
   "cell_type": "code",
   "execution_count": null,
   "id": "ce36e1fd",
   "metadata": {},
   "outputs": [],
   "source": [
    "String:\n",
    "A string is a data type used to represent a sequence of characters, such as letters, numbers, and symbols. Strings are typically used to store and manipulate textual data. In most programming languages, strings are enclosed in either single ('') or double (\"\") quotation marks. For example:\n",
    "\"Hello, world!\"\n",
    "\n",
    "\n",
    "Variables: Variables are named placeholders that store various types of data, including strings, numbers, objects, and more. They provide a way to reference and work with data in a program.\n",
    "String: \"Hello, world!\"\n",
    "Variable: name = \"Alice\"\n",
    "    "
   ]
  },
  {
   "cell_type": "markdown",
   "id": "e2ce05a5",
   "metadata": {},
   "source": [
    "# 3"
   ]
  },
  {
   "cell_type": "code",
   "execution_count": null,
   "id": "4f24b4d1",
   "metadata": {},
   "outputs": [],
   "source": [
    "Numeric\tint, float, complex\tholds numeric values\n",
    "String\tstr\tholds sequence of characters\n",
    "Sequence\tlist, tuple, range\tholds collection of items\n",
    "Mapping\tdict\tholds data in key-value pair form"
   ]
  },
  {
   "cell_type": "markdown",
   "id": "929f7236",
   "metadata": {},
   "source": [
    "# 4"
   ]
  },
  {
   "cell_type": "markdown",
   "id": "4ae60f0a",
   "metadata": {},
   "source": [
    "  In Python, an expression is a combination of values, operators, and function calls that can be evaluated to produce a result. Expressions are the building blocks of statements, and they represent computations that produce values. Every expression has a type and can be evaluated to a value, which can be used in various ways within a program.\n",
    "\n",
    "Expressions are made up of the following components:\n",
    "\n",
    "Values: These can be literals like numbers (integers, floating-point), strings, or boolean values (True or False).\n",
    "Operators: These are symbols that perform operations on values. Examples include arithmetic operators (+, -, *, /), comparison operators (>, <, ==, !=), logical operators (and, or, not), and more.\n",
    "Function Calls: Invoking functions with arguments is also a type of expression. Functions are reusable blocks of code that perform specific tasks.\n",
    "All expressions, when evaluated, produce a value. The value can be of any data type, such as a number, string, boolean, or even a more complex data structure. Expressions are used extensively in programming for various purposes:\n",
    "\n",
    "Calculations: Expressions are used to perform calculations and mathematical operations. For example:\n",
    "\n",
    "\n",
    "result = 3 + 5 * 2\n",
    "Comparisons: Expressions are used to compare values and determine relationships between them. For example:\n",
    "\n",
    "\n",
    "is_equal = 10 == 5 * 2\n",
    "Boolean Logic: Expressions are used to create logical conditions that determine the flow of a program. For example:\n",
    "\n",
    "\n",
    "if x > 0 and y < 10:\n",
    "    # do something\n",
    "String Manipulation: Expressions can concatenate strings or manipulate their contents. For example:\n",
    "\n",
    "greeting = \"Hello, \" + name\n",
    "Function Calls: Function calls are expressions that can compute and return results. For example:\n",
    "\n",
    "\n",
    "length = len(\"hello\")\n",
    "Data Manipulation: Expressions are used to work with data structures like lists, dictionaries, and more.\n",
    "\n",
    "In summary, expressions in Python are combinations of values, operators, and function calls that can be evaluated to produce results. They play a fundamental role in computations, comparisons, decision-making, and manipulating data within a program."
   ]
  },
  {
   "cell_type": "markdown",
   "id": "26d2ace3",
   "metadata": {},
   "source": [
    "# 5"
   ]
  },
  {
   "cell_type": "code",
   "execution_count": null,
   "id": "6cc58ddf",
   "metadata": {},
   "outputs": [],
   "source": [
    "Expression:\n",
    "An expression is a combination of values, operators, and possibly function calls that can be evaluated to produce a single value. Expressions can be as simple as a single value (like a number or a string), or they can be complex combinations of values and operators. Expressions always result in a value when evaluated.\n",
    "\n",
    "Examples of expressions:\n",
    "\n",
    "5 + 3 (evaluates to 8)\n",
    "x * y (evaluates to the product of x and y)\n",
    "len(\"hello\") (evaluates to the length of the string \"hello\")\n",
    "x > 10 (evaluates to a boolean value)\n",
    "Statement:\n",
    "A statement is a complete instruction that performs some action. Statements can include assignments, loops, conditionals, and function definitions. Unlike expressions, statements don't necessarily produce a value when executed. Instead, they might change the state of the program, control its flow, or define new behavior.\n",
    "\n",
    "Examples of statements:\n",
    "\n",
    "Assignment statement: spam = 10\n",
    "Conditional statement: if x > 5:\n",
    "Loop statement: for i in range(5):\n",
    "Function definition: def greet(name):\n",
    "In the assignment statement spam = 10, the expression is 10, which is a simple value. The statement as a whole assigns the value 10 to the variable spam.\n",
    "\n",
    "In summary:\n",
    "\n",
    "Expression: A combination of values, operators, and function calls that produces a value when evaluated.\n",
    "Statement: A complete instruction that performs an action, controls program flow, or defines behavior. It doesn't necessarily produce a value when executed.\n",
    "It's important to understand the distinction between expressions and statements, as they have different roles in programming languages and are used for different purposes in writing code.\n",
    "\n",
    "\n",
    "\n",
    "\n",
    "\n"
   ]
  },
  {
   "cell_type": "markdown",
   "id": "a7aa85c0",
   "metadata": {},
   "source": [
    "# 6"
   ]
  },
  {
   "cell_type": "code",
   "execution_count": null,
   "id": "582469c8",
   "metadata": {},
   "outputs": [],
   "source": [
    "22 only because bacon +1 calculated but not assigned back to bacon."
   ]
  },
  {
   "cell_type": "markdown",
   "id": "accb5098",
   "metadata": {},
   "source": [
    "# 7 "
   ]
  },
  {
   "cell_type": "code",
   "execution_count": null,
   "id": "a3eae3b0",
   "metadata": {},
   "outputs": [],
   "source": [
    "1.'spamspamspam'\n",
    "2.'spamspamspam'"
   ]
  },
  {
   "cell_type": "markdown",
   "id": "d220e0b7",
   "metadata": {},
   "source": [
    "# 8"
   ]
  },
  {
   "cell_type": "code",
   "execution_count": null,
   "id": "b52300d7",
   "metadata": {},
   "outputs": [],
   "source": [
    "While 100 is not a valid variable name, it is a valid expression that represents the integer value 100. It can be used in calculations and other contexts where an integer value is expected, just not as a variable name."
   ]
  },
  {
   "cell_type": "markdown",
   "id": "3ac2634c",
   "metadata": {},
   "source": [
    "# 9"
   ]
  },
  {
   "cell_type": "code",
   "execution_count": null,
   "id": "00297657",
   "metadata": {},
   "outputs": [],
   "source": [
    "1.Integer Conversion: int()\n",
    "The int() function is used to convert a value to an integer. It can be used to convert floating-point numbers or strings containing integer representations to integers.\n",
    "\n",
    "\n",
    "float_num = 3.14\n",
    "int_num = int(float_num)  # Converts 3.14 to 3\n",
    "\n",
    "str_num = \"42\"\n",
    "int_from_str = int(str_num)  # Converts \"42\" to the integer 42\n",
    "\n",
    "2.Floating-Point Conversion: float()\n",
    "The float() function is used to convert a value to a floating-point number. It can be used to convert integers or strings containing numeric representations to floating-point numbers.\n",
    "\n",
    "Example:\n",
    "\n",
    "int_num = 5\n",
    "float_num = float(int_num)  # Converts 5 to 5.0\n",
    "\n",
    "str_float = \"3.14159\"\n",
    "float_from_str = float(str_float)\n",
    "\n",
    "\n",
    "\n",
    "3.String Conversion: str()\n",
    "The str() function is used to convert a value to a string. It can be used to convert integers, floating-point numbers, or other data types to strings.\n",
    "\n",
    "Example:\n",
    "\n",
    "int_num = 42\n",
    "str_int = str(int_num)  # Converts 42 to \"42\"\n",
    "\n",
    "float_num = 2.71828\n",
    "str_float = str(float_num)  # Converts 2.71828 to \"2.71828\"\n"
   ]
  },
  {
   "cell_type": "markdown",
   "id": "5bf97823",
   "metadata": {},
   "source": [
    "# 10"
   ]
  },
  {
   "cell_type": "code",
   "execution_count": null,
   "id": "71c11717",
   "metadata": {},
   "outputs": [],
   "source": [
    "'I have eaten' + str(99) + 'burritos.'"
   ]
  }
 ],
 "metadata": {
  "kernelspec": {
   "display_name": "Python 3 (ipykernel)",
   "language": "python",
   "name": "python3"
  },
  "language_info": {
   "codemirror_mode": {
    "name": "ipython",
    "version": 3
   },
   "file_extension": ".py",
   "mimetype": "text/x-python",
   "name": "python",
   "nbconvert_exporter": "python",
   "pygments_lexer": "ipython3",
   "version": "3.10.9"
  }
 },
 "nbformat": 4,
 "nbformat_minor": 5
}
